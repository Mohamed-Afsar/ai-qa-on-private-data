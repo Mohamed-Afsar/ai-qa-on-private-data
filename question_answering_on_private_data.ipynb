{
 "cells": [
  {
   "cell_type": "code",
   "execution_count": 1,
   "id": "ec3f68b1-c028-4146-960a-0285b98284c1",
   "metadata": {},
   "outputs": [
    {
     "data": {
      "text/plain": [
       "True"
      ]
     },
     "execution_count": 1,
     "metadata": {},
     "output_type": "execute_result"
    }
   ],
   "source": [
    "from dotenv import load_dotenv, find_dotenv\n",
    "\n",
    "load_dotenv(find_dotenv(), override=True)"
   ]
  },
  {
   "cell_type": "markdown",
   "id": "9c0aee5e-1545-4fa4-b897-5500b74e8ac0",
   "metadata": {},
   "source": [
    "#### Function that loads a document"
   ]
  },
  {
   "cell_type": "code",
   "execution_count": 3,
   "id": "d5df5c97-a87b-4a21-90a6-424ac2f61058",
   "metadata": {},
   "outputs": [],
   "source": [
    "def load_document(file):\n",
    "    from langchain.document_loaders import PyPDFLoader\n",
    "    print(f'Loading {file}...')\n",
    "    loader = PyPDFLoader(file)\n",
    "    data = loader.load()\n",
    "    return data"
   ]
  },
  {
   "cell_type": "markdown",
   "id": "adc377b8-9525-4ded-a77b-3b1218e403b7",
   "metadata": {},
   "source": [
    "#### Load a pdf file data"
   ]
  },
  {
   "cell_type": "code",
   "execution_count": 6,
   "id": "0c0406bf-2da8-4008-979a-55d67b0f845b",
   "metadata": {},
   "outputs": [
    {
     "name": "stdout",
     "output_type": "stream",
     "text": [
      "Collecting pypdf\n",
      "  Obtaining dependency information for pypdf from https://files.pythonhosted.org/packages/74/a9/5ccde1312650dd03e65350224fea85d9a430c182a01f056599cbb76f7390/pypdf-3.17.0-py3-none-any.whl.metadata\n",
      "  Using cached pypdf-3.17.0-py3-none-any.whl.metadata (7.5 kB)\n",
      "Using cached pypdf-3.17.0-py3-none-any.whl (277 kB)\n",
      "Installing collected packages: pypdf\n",
      "Successfully installed pypdf-3.17.0\n",
      "\n",
      "\u001b[1m[\u001b[0m\u001b[34;49mnotice\u001b[0m\u001b[1;39;49m]\u001b[0m\u001b[39;49m A new release of pip is available: \u001b[0m\u001b[31;49m23.2.1\u001b[0m\u001b[39;49m -> \u001b[0m\u001b[32;49m23.3.1\u001b[0m\n",
      "\u001b[1m[\u001b[0m\u001b[34;49mnotice\u001b[0m\u001b[1;39;49m]\u001b[0m\u001b[39;49m To update, run: \u001b[0m\u001b[32;49mpython3.11 -m pip install --upgrade pip\u001b[0m\n",
      "Note: you may need to restart the kernel to use updated packages.\n"
     ]
    }
   ],
   "source": [
    "pip install pypdf"
   ]
  },
  {
   "cell_type": "code",
   "execution_count": 7,
   "id": "632e90e4-a1af-4630-98bc-50f36f876667",
   "metadata": {},
   "outputs": [
    {
     "name": "stdout",
     "output_type": "stream",
     "text": [
      "Loading ./files/us_constitution.pdf...\n",
      "The\n",
      "United\n",
      "States\n",
      "Constitution\n",
      "W e\n",
      "the\n",
      "People\n",
      "of\n",
      "the\n",
      "United\n",
      "States,\n",
      "in\n",
      "Order\n",
      "to\n",
      "form\n",
      "a\n",
      "more\n",
      "perfect\n",
      "Union,\n",
      "establish\n",
      "Justice,\n",
      "insure\n",
      "domestic\n",
      "T ranquility ,\n",
      "provide\n",
      "for\n",
      "the\n",
      "common\n",
      "defence,\n",
      "promote\n",
      "the\n",
      "general\n",
      "W elfare,\n",
      "and\n",
      "secure\n",
      "the\n",
      "Blessings\n",
      "of\n",
      "Liberty\n",
      "to\n",
      "ourselves\n",
      "and\n",
      "our\n",
      "Posterity ,\n",
      "do\n",
      "ordain\n",
      "and\n",
      "establish\n",
      "this\n",
      "Constitution\n",
      "for\n",
      "the\n",
      "United\n",
      "States\n",
      "of\n",
      "America.\n",
      "The\n",
      "Constitutional\n",
      "Con v ention\n",
      "Article\n",
      "I\n",
      "Section\n",
      "1:\n",
      "Congress\n",
      "All\n",
      "legislative\n",
      "Powers\n",
      "herein\n",
      "granted\n",
      "shall\n",
      "be\n",
      "vested\n",
      "in\n",
      "a\n",
      "Congress\n",
      "of\n",
      "the\n",
      "United\n",
      "States,\n",
      "which\n",
      "shall\n",
      "consist\n",
      "of\n",
      "a\n",
      "Senate\n",
      "and\n",
      "House\n",
      "of\n",
      "Representatives.\n",
      "Section\n",
      "2:\n",
      "The\n",
      "House\n",
      "of\n",
      "Representatives\n"
     ]
    }
   ],
   "source": [
    "data = load_document('./files/us_constitution.pdf')\n",
    "print(data[0].page_content)"
   ]
  },
  {
   "cell_type": "code",
   "execution_count": 8,
   "id": "5535a34a-4fca-424f-97dd-26405215237d",
   "metadata": {},
   "outputs": [
    {
     "name": "stdout",
     "output_type": "stream",
     "text": [
      "{'source': './files/us_constitution.pdf', 'page': 0}\n"
     ]
    }
   ],
   "source": [
    "print(data[0].metadata)"
   ]
  },
  {
   "cell_type": "code",
   "execution_count": 9,
   "id": "13e1faf2-8973-4809-b16e-e9d9c3724339",
   "metadata": {},
   "outputs": [
    {
     "name": "stdout",
     "output_type": "stream",
     "text": [
      "You have 41 pages in your pdf\n"
     ]
    }
   ],
   "source": [
    "print(f'You have {len(data)} pages in your pdf')"
   ]
  },
  {
   "cell_type": "code",
   "execution_count": null,
   "id": "17a73b3e-3ef8-4bd8-a488-69dceec3f818",
   "metadata": {},
   "outputs": [],
   "source": []
  }
 ],
 "metadata": {
  "kernelspec": {
   "display_name": "Python 3 (ipykernel)",
   "language": "python",
   "name": "python3"
  },
  "language_info": {
   "codemirror_mode": {
    "name": "ipython",
    "version": 3
   },
   "file_extension": ".py",
   "mimetype": "text/x-python",
   "name": "python",
   "nbconvert_exporter": "python",
   "pygments_lexer": "ipython3",
   "version": "3.11.6"
  }
 },
 "nbformat": 4,
 "nbformat_minor": 5
}
